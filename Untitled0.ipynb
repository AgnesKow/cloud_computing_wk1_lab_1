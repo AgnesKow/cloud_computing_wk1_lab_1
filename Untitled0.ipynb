{
  "nbformat": 4,
  "nbformat_minor": 0,
  "metadata": {
    "colab": {
      "name": "Untitled0.ipynb",
      "provenance": [],
      "authorship_tag": "ABX9TyOP2+nf4n0ux0ALPYdGi4+3",
      "include_colab_link": true
    },
    "kernelspec": {
      "name": "python3",
      "display_name": "Python 3"
    },
    "language_info": {
      "name": "python"
    }
  },
  "cells": [
    {
      "cell_type": "markdown",
      "metadata": {
        "id": "view-in-github",
        "colab_type": "text"
      },
      "source": [
        "<a href=\"https://colab.research.google.com/github/AgnesKow/cloud_computing_wk1_lab_1/blob/main/Untitled0.ipynb\" target=\"_parent\"><img src=\"https://colab.research.google.com/assets/colab-badge.svg\" alt=\"Open In Colab\"/></a>"
      ]
    },
    {
      "cell_type": "markdown",
      "metadata": {
        "id": "fzfyTlWsuuKV"
      },
      "source": [
        "###Ingest\n"
      ]
    },
    {
      "cell_type": "code",
      "metadata": {
        "colab": {
          "base_uri": "https://localhost:8080/",
          "height": 35
        },
        "id": "jk_s7nvBuHHW",
        "outputId": "b46513b3-79ad-46de-a026-cd16fa52723d"
      },
      "source": [
        "def hello():\n",
        "    return \"hi\"\n",
        "hello()\n"
      ],
      "execution_count": 3,
      "outputs": [
        {
          "output_type": "execute_result",
          "data": {
            "application/vnd.google.colaboratory.intrinsic+json": {
              "type": "string"
            },
            "text/plain": [
              "'hi'"
            ]
          },
          "metadata": {},
          "execution_count": 3
        }
      ]
    },
    {
      "cell_type": "code",
      "metadata": {
        "id": "oZuKcmNIuTF-"
      },
      "source": [
        ""
      ],
      "execution_count": 3,
      "outputs": []
    },
    {
      "cell_type": "markdown",
      "metadata": {
        "id": "nrhuUVz8u15D"
      },
      "source": [
        "###EDA\n"
      ]
    },
    {
      "cell_type": "markdown",
      "metadata": {
        "id": "i7u_XlIJvDbb"
      },
      "source": [
        "### this is a markdown heading \n",
        "*1\n",
        "*2\n"
      ]
    },
    {
      "cell_type": "markdown",
      "metadata": {
        "id": "ADSu_gGxulEW"
      },
      "source": [
        ""
      ]
    },
    {
      "cell_type": "markdown",
      "metadata": {
        "id": "3CcpQ1zqu59z"
      },
      "source": [
        "##Modelling\n",
        "\n"
      ]
    },
    {
      "cell_type": "markdown",
      "metadata": {
        "id": "GFNZ0e1du-mD"
      },
      "source": [
        "##Conclusion"
      ]
    }
  ]
}